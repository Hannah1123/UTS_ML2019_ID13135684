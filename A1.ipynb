{
  "nbformat": 4,
  "nbformat_minor": 0,
  "metadata": {
    "colab": {
      "name": "A1.ipynb",
      "version": "0.3.2",
      "provenance": [],
      "include_colab_link": true
    },
    "kernelspec": {
      "name": "python3",
      "display_name": "Python 3"
    }
  },
  "cells": [
    {
      "cell_type": "markdown",
      "metadata": {
        "id": "view-in-github",
        "colab_type": "text"
      },
      "source": [
        "<a href=\"https://colab.research.google.com/github/Hannah1123/UTS_ML2019_ID13135684/blob/master/A1.ipynb\" target=\"_parent\"><img src=\"https://colab.research.google.com/assets/colab-badge.svg\" alt=\"Open In Colab\"/></a>"
      ]
    },
    {
      "cell_type": "markdown",
      "metadata": {
        "id": "SOYDzv_4wZP-",
        "colab_type": "text"
      },
      "source": [
        "#Title"
      ]
    },
    {
      "cell_type": "markdown",
      "metadata": {
        "id": "d2jbflpcwmqU",
        "colab_type": "text"
      },
      "source": [
        "#Introduction"
      ]
    },
    {
      "cell_type": "markdown",
      "metadata": {
        "id": "XUdzxlMIwqUc",
        "colab_type": "text"
      },
      "source": [
        "#Content \n",
        "paper的主要内容，主要challenge，它试图解决的problem#300字"
      ]
    },
    {
      "cell_type": "markdown",
      "metadata": {
        "id": "Qce_FDS1xDjM",
        "colab_type": "text"
      },
      "source": [
        "#Innovation \n",
        "革新内容， 这个paper中实现了什么：a new method?  an algorithm? a methodology? a comparison between methods? or\n",
        "something else。#300字"
      ]
    },
    {
      "cell_type": "markdown",
      "metadata": {
        "id": "FI0MayWYyS8T",
        "colab_type": "text"
      },
      "source": [
        ""
      ]
    },
    {
      "cell_type": "markdown",
      "metadata": {
        "id": "zdtXXqObyWTY",
        "colab_type": "text"
      },
      "source": [
        "# Technical quality\n",
        "rate如何评价论文中工作的技术质量(要考虑已完成的工作)。200字"
      ]
    },
    {
      "cell_type": "markdown",
      "metadata": {
        "id": "yF0V2JbzyfC-",
        "colab_type": "text"
      },
      "source": [
        "# Application and X-factor\n",
        "该技术是否符合其应用域，还可以用于什么application domain？给一些该research发展的建议。该文章的内容能否在课堂上激起讨论的火花？有什么interest 发现 在该文章中？200字"
      ]
    },
    {
      "cell_type": "markdown",
      "metadata": {
        "id": "C9Cw-PKx2QNt",
        "colab_type": "text"
      },
      "source": [
        "# Presentation\n",
        "该文章的presentation的质量如何？rate：how easy it was to follow the argument in the paper; presentation风格; depth of the argument; and clarity of\n",
        "the presentation.#100字"
      ]
    },
    {
      "cell_type": "markdown",
      "metadata": {
        "id": "K9xgNyuk2yx-",
        "colab_type": "text"
      },
      "source": [
        "# References\n"
      ]
    },
    {
      "cell_type": "markdown",
      "metadata": {
        "id": "pM03wepY3hkz",
        "colab_type": "text"
      },
      "source": [
        "# Draft and Experiment Area"
      ]
    }
  ]
}