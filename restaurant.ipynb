{
  "nbformat": 4,
  "nbformat_minor": 0,
  "metadata": {
    "colab": {
      "name": "A2.ipynb",
      "provenance": [],
      "collapsed_sections": [],
      "include_colab_link": true
    },
    "kernelspec": {
      "name": "python3",
      "display_name": "Python 3"
    }
  },
  "cells": [
    {
      "cell_type": "markdown",
      "metadata": {
        "id": "view-in-github",
        "colab_type": "text"
      },
      "source": [
        "<a href=\"https://colab.research.google.com/github/Hannah1123/UTS_ML2019_ID13135684/blob/master/A2.ipynb\" target=\"_parent\"><img src=\"https://colab.research.google.com/assets/colab-badge.svg\" alt=\"Open In Colab\"/></a>"
      ]
    },
    {
      "cell_type": "markdown",
      "metadata": {
        "id": "pQ_2Mic26Jr8",
        "colab_type": "text"
      },
      "source": [
        "#Introduction  \n",
        "定义问题， 意义"
      ]
    },
    {
      "cell_type": "markdown",
      "metadata": {
        "id": "L8xNr8ZT6VH3",
        "colab_type": "text"
      },
      "source": [
        "#Exploration  \n",
        "challenges，设计数据结构，计划数据模型和测试  \n",
        "Identify Challenges;\n",
        "Design Data Structures/Plan Data Models and Tests\n",
        "W-300"
      ]
    },
    {
      "cell_type": "markdown",
      "metadata": {
        "id": "KzCix43c6YeB",
        "colab_type": "text"
      },
      "source": [
        "#Methodology  \n",
        "Implement Algorithms;  \n",
        "Build and Train Data Models  \n",
        "W-300 for Practical Project"
      ]
    },
    {
      "cell_type": "code",
      "metadata": {
        "id": "tdxrjL49V8ZR",
        "colab_type": "code",
        "colab": {}
      },
      "source": [
        "!pip install -U -q PyDrive\n",
        "from pydrive.auth import GoogleAuth\n",
        "from pydrive.drive import GoogleDrive\n",
        "from google.colab import auth\n",
        "from oauth2client.client import GoogleCredentials\n",
        "# Authenticate and create the PyDrive client.\n",
        "auth.authenticate_user()\n",
        "gauth = GoogleAuth()\n",
        "gauth.credentials = GoogleCredentials.get_application_default()\n",
        "drive = GoogleDrive(gauth)"
      ],
      "execution_count": 0,
      "outputs": []
    },
    {
      "cell_type": "code",
      "metadata": {
        "id": "WdmFj3vVqQxS",
        "colab_type": "code",
        "colab": {}
      },
      "source": [
        "import pandas as pd\n",
        "import numpy as np\n",
        "import matplotlib.pyplot as plt\n",
        "import seaborn as sns\n",
        "from matplotlib import rcParams"
      ],
      "execution_count": 0,
      "outputs": []
    },
    {
      "cell_type": "code",
      "metadata": {
        "id": "VgtiQiToXBoa",
        "colab_type": "code",
        "colab": {}
      },
      "source": [
        "link = 'https://drive.google.com/open?id=1CzKH7BCeewOyjsw0bNI7Gn76I-meIkzX'"
      ],
      "execution_count": 0,
      "outputs": []
    },
    {
      "cell_type": "code",
      "metadata": {
        "id": "STKZMpEiY78C",
        "colab_type": "code",
        "colab": {
          "base_uri": "https://localhost:8080/",
          "height": 35
        },
        "outputId": "504e23be-f0c5-4d1a-92c2-e58ea04a1c54"
      },
      "source": [
        "fluff, id = link.split('=')\n",
        "print (id) # Verify that i have everything after '='"
      ],
      "execution_count": 7,
      "outputs": [
        {
          "output_type": "stream",
          "text": [
            "1CzKH7BCeewOyjsw0bNI7Gn76I-meIkzX\n"
          ],
          "name": "stdout"
        }
      ]
    },
    {
      "cell_type": "code",
      "metadata": {
        "id": "NVDJeVrCZ9nA",
        "colab_type": "code",
        "colab": {}
      },
      "source": [
        "downloaded = drive.CreateFile({'id':id}) \n",
        "downloaded.GetContentFile('Filename.csv')  \n",
        "df3 = pd.read_csv('Filename.csv')\n",
        "# Dataset is now stored in a Pandas Dataframe"
      ],
      "execution_count": 0,
      "outputs": []
    },
    {
      "cell_type": "code",
      "metadata": {
        "id": "G7A0SQaVaH_y",
        "colab_type": "code",
        "colab": {
          "base_uri": "https://localhost:8080/",
          "height": 598
        },
        "outputId": "d992ab2c-58be-4a88-f139-64dfb399bd42"
      },
      "source": [
        "df3.head()"
      ],
      "execution_count": 9,
      "outputs": [
        {
          "output_type": "execute_result",
          "data": {
            "text/html": [
              "<div>\n",
              "<style scoped>\n",
              "    .dataframe tbody tr th:only-of-type {\n",
              "        vertical-align: middle;\n",
              "    }\n",
              "\n",
              "    .dataframe tbody tr th {\n",
              "        vertical-align: top;\n",
              "    }\n",
              "\n",
              "    .dataframe thead th {\n",
              "        text-align: right;\n",
              "    }\n",
              "</style>\n",
              "<table border=\"1\" class=\"dataframe\">\n",
              "  <thead>\n",
              "    <tr style=\"text-align: right;\">\n",
              "      <th></th>\n",
              "      <th>url</th>\n",
              "      <th>address</th>\n",
              "      <th>name</th>\n",
              "      <th>online_order</th>\n",
              "      <th>book_table</th>\n",
              "      <th>rate</th>\n",
              "      <th>votes</th>\n",
              "      <th>phone</th>\n",
              "      <th>location</th>\n",
              "      <th>rest_type</th>\n",
              "      <th>dish_liked</th>\n",
              "      <th>cuisines</th>\n",
              "      <th>approx_cost(for two people)</th>\n",
              "      <th>reviews_list</th>\n",
              "      <th>menu_item</th>\n",
              "      <th>listed_in(type)</th>\n",
              "      <th>listed_in(city)</th>\n",
              "    </tr>\n",
              "  </thead>\n",
              "  <tbody>\n",
              "    <tr>\n",
              "      <th>0</th>\n",
              "      <td>https://www.zomato.com/bangalore/jalsa-banasha...</td>\n",
              "      <td>942, 21st Main Road, 2nd Stage, Banashankari, ...</td>\n",
              "      <td>Jalsa</td>\n",
              "      <td>Yes</td>\n",
              "      <td>Yes</td>\n",
              "      <td>4.1/5</td>\n",
              "      <td>775</td>\n",
              "      <td>080 42297555\\r\\n+91 9743772233</td>\n",
              "      <td>Banashankari</td>\n",
              "      <td>Casual Dining</td>\n",
              "      <td>Pasta, Lunch Buffet, Masala Papad, Paneer Laja...</td>\n",
              "      <td>North Indian, Mughlai, Chinese</td>\n",
              "      <td>800</td>\n",
              "      <td>[('Rated 4.0', 'RATED\\n  A beautiful place to ...</td>\n",
              "      <td>[]</td>\n",
              "      <td>Buffet</td>\n",
              "      <td>Banashankari</td>\n",
              "    </tr>\n",
              "    <tr>\n",
              "      <th>1</th>\n",
              "      <td>https://www.zomato.com/bangalore/spice-elephan...</td>\n",
              "      <td>2nd Floor, 80 Feet Road, Near Big Bazaar, 6th ...</td>\n",
              "      <td>Spice Elephant</td>\n",
              "      <td>Yes</td>\n",
              "      <td>No</td>\n",
              "      <td>4.1/5</td>\n",
              "      <td>787</td>\n",
              "      <td>080 41714161</td>\n",
              "      <td>Banashankari</td>\n",
              "      <td>Casual Dining</td>\n",
              "      <td>Momos, Lunch Buffet, Chocolate Nirvana, Thai G...</td>\n",
              "      <td>Chinese, North Indian, Thai</td>\n",
              "      <td>800</td>\n",
              "      <td>[('Rated 4.0', 'RATED\\n  Had been here for din...</td>\n",
              "      <td>[]</td>\n",
              "      <td>Buffet</td>\n",
              "      <td>Banashankari</td>\n",
              "    </tr>\n",
              "    <tr>\n",
              "      <th>2</th>\n",
              "      <td>https://www.zomato.com/SanchurroBangalore?cont...</td>\n",
              "      <td>1112, Next to KIMS Medical College, 17th Cross...</td>\n",
              "      <td>San Churro Cafe</td>\n",
              "      <td>Yes</td>\n",
              "      <td>No</td>\n",
              "      <td>3.8/5</td>\n",
              "      <td>918</td>\n",
              "      <td>+91 9663487993</td>\n",
              "      <td>Banashankari</td>\n",
              "      <td>Cafe, Casual Dining</td>\n",
              "      <td>Churros, Cannelloni, Minestrone Soup, Hot Choc...</td>\n",
              "      <td>Cafe, Mexican, Italian</td>\n",
              "      <td>800</td>\n",
              "      <td>[('Rated 3.0', \"RATED\\n  Ambience is not that ...</td>\n",
              "      <td>[]</td>\n",
              "      <td>Buffet</td>\n",
              "      <td>Banashankari</td>\n",
              "    </tr>\n",
              "    <tr>\n",
              "      <th>3</th>\n",
              "      <td>https://www.zomato.com/bangalore/addhuri-udupi...</td>\n",
              "      <td>1st Floor, Annakuteera, 3rd Stage, Banashankar...</td>\n",
              "      <td>Addhuri Udupi Bhojana</td>\n",
              "      <td>No</td>\n",
              "      <td>No</td>\n",
              "      <td>3.7/5</td>\n",
              "      <td>88</td>\n",
              "      <td>+91 9620009302</td>\n",
              "      <td>Banashankari</td>\n",
              "      <td>Quick Bites</td>\n",
              "      <td>Masala Dosa</td>\n",
              "      <td>South Indian, North Indian</td>\n",
              "      <td>300</td>\n",
              "      <td>[('Rated 4.0', \"RATED\\n  Great food and proper...</td>\n",
              "      <td>[]</td>\n",
              "      <td>Buffet</td>\n",
              "      <td>Banashankari</td>\n",
              "    </tr>\n",
              "    <tr>\n",
              "      <th>4</th>\n",
              "      <td>https://www.zomato.com/bangalore/grand-village...</td>\n",
              "      <td>10, 3rd Floor, Lakshmi Associates, Gandhi Baza...</td>\n",
              "      <td>Grand Village</td>\n",
              "      <td>No</td>\n",
              "      <td>No</td>\n",
              "      <td>3.8/5</td>\n",
              "      <td>166</td>\n",
              "      <td>+91 8026612447\\r\\n+91 9901210005</td>\n",
              "      <td>Basavanagudi</td>\n",
              "      <td>Casual Dining</td>\n",
              "      <td>Panipuri, Gol Gappe</td>\n",
              "      <td>North Indian, Rajasthani</td>\n",
              "      <td>600</td>\n",
              "      <td>[('Rated 4.0', 'RATED\\n  Very good restaurant ...</td>\n",
              "      <td>[]</td>\n",
              "      <td>Buffet</td>\n",
              "      <td>Banashankari</td>\n",
              "    </tr>\n",
              "  </tbody>\n",
              "</table>\n",
              "</div>"
            ],
            "text/plain": [
              "                                                 url  ... listed_in(city)\n",
              "0  https://www.zomato.com/bangalore/jalsa-banasha...  ...    Banashankari\n",
              "1  https://www.zomato.com/bangalore/spice-elephan...  ...    Banashankari\n",
              "2  https://www.zomato.com/SanchurroBangalore?cont...  ...    Banashankari\n",
              "3  https://www.zomato.com/bangalore/addhuri-udupi...  ...    Banashankari\n",
              "4  https://www.zomato.com/bangalore/grand-village...  ...    Banashankari\n",
              "\n",
              "[5 rows x 17 columns]"
            ]
          },
          "metadata": {
            "tags": []
          },
          "execution_count": 9
        }
      ]
    },
    {
      "cell_type": "code",
      "metadata": {
        "id": "6k7D5Evencqu",
        "colab_type": "code",
        "colab": {}
      },
      "source": [
        "del df3['url']\n",
        "del df3['address']\n",
        "del df3['phone']\n",
        "del df3['location']"
      ],
      "execution_count": 0,
      "outputs": []
    },
    {
      "cell_type": "code",
      "metadata": {
        "id": "KzPMXSGInyRy",
        "colab_type": "code",
        "colab": {
          "base_uri": "https://localhost:8080/",
          "height": 598
        },
        "outputId": "910dda79-c7e9-47f4-d947-d0cda600ce7b"
      },
      "source": [
        "df3.head()"
      ],
      "execution_count": 14,
      "outputs": [
        {
          "output_type": "execute_result",
          "data": {
            "text/html": [
              "<div>\n",
              "<style scoped>\n",
              "    .dataframe tbody tr th:only-of-type {\n",
              "        vertical-align: middle;\n",
              "    }\n",
              "\n",
              "    .dataframe tbody tr th {\n",
              "        vertical-align: top;\n",
              "    }\n",
              "\n",
              "    .dataframe thead th {\n",
              "        text-align: right;\n",
              "    }\n",
              "</style>\n",
              "<table border=\"1\" class=\"dataframe\">\n",
              "  <thead>\n",
              "    <tr style=\"text-align: right;\">\n",
              "      <th></th>\n",
              "      <th>name</th>\n",
              "      <th>online_order</th>\n",
              "      <th>book_table</th>\n",
              "      <th>rate</th>\n",
              "      <th>votes</th>\n",
              "      <th>rest_type</th>\n",
              "      <th>dish_liked</th>\n",
              "      <th>cuisines</th>\n",
              "      <th>approx_cost(for two people)</th>\n",
              "      <th>reviews_list</th>\n",
              "      <th>menu_item</th>\n",
              "      <th>listed_in(type)</th>\n",
              "      <th>listed_in(city)</th>\n",
              "    </tr>\n",
              "  </thead>\n",
              "  <tbody>\n",
              "    <tr>\n",
              "      <th>0</th>\n",
              "      <td>Jalsa</td>\n",
              "      <td>Yes</td>\n",
              "      <td>Yes</td>\n",
              "      <td>4.1/5</td>\n",
              "      <td>775</td>\n",
              "      <td>Casual Dining</td>\n",
              "      <td>Pasta, Lunch Buffet, Masala Papad, Paneer Laja...</td>\n",
              "      <td>North Indian, Mughlai, Chinese</td>\n",
              "      <td>800</td>\n",
              "      <td>[('Rated 4.0', 'RATED\\n  A beautiful place to ...</td>\n",
              "      <td>[]</td>\n",
              "      <td>Buffet</td>\n",
              "      <td>Banashankari</td>\n",
              "    </tr>\n",
              "    <tr>\n",
              "      <th>1</th>\n",
              "      <td>Spice Elephant</td>\n",
              "      <td>Yes</td>\n",
              "      <td>No</td>\n",
              "      <td>4.1/5</td>\n",
              "      <td>787</td>\n",
              "      <td>Casual Dining</td>\n",
              "      <td>Momos, Lunch Buffet, Chocolate Nirvana, Thai G...</td>\n",
              "      <td>Chinese, North Indian, Thai</td>\n",
              "      <td>800</td>\n",
              "      <td>[('Rated 4.0', 'RATED\\n  Had been here for din...</td>\n",
              "      <td>[]</td>\n",
              "      <td>Buffet</td>\n",
              "      <td>Banashankari</td>\n",
              "    </tr>\n",
              "    <tr>\n",
              "      <th>2</th>\n",
              "      <td>San Churro Cafe</td>\n",
              "      <td>Yes</td>\n",
              "      <td>No</td>\n",
              "      <td>3.8/5</td>\n",
              "      <td>918</td>\n",
              "      <td>Cafe, Casual Dining</td>\n",
              "      <td>Churros, Cannelloni, Minestrone Soup, Hot Choc...</td>\n",
              "      <td>Cafe, Mexican, Italian</td>\n",
              "      <td>800</td>\n",
              "      <td>[('Rated 3.0', \"RATED\\n  Ambience is not that ...</td>\n",
              "      <td>[]</td>\n",
              "      <td>Buffet</td>\n",
              "      <td>Banashankari</td>\n",
              "    </tr>\n",
              "    <tr>\n",
              "      <th>3</th>\n",
              "      <td>Addhuri Udupi Bhojana</td>\n",
              "      <td>No</td>\n",
              "      <td>No</td>\n",
              "      <td>3.7/5</td>\n",
              "      <td>88</td>\n",
              "      <td>Quick Bites</td>\n",
              "      <td>Masala Dosa</td>\n",
              "      <td>South Indian, North Indian</td>\n",
              "      <td>300</td>\n",
              "      <td>[('Rated 4.0', \"RATED\\n  Great food and proper...</td>\n",
              "      <td>[]</td>\n",
              "      <td>Buffet</td>\n",
              "      <td>Banashankari</td>\n",
              "    </tr>\n",
              "    <tr>\n",
              "      <th>4</th>\n",
              "      <td>Grand Village</td>\n",
              "      <td>No</td>\n",
              "      <td>No</td>\n",
              "      <td>3.8/5</td>\n",
              "      <td>166</td>\n",
              "      <td>Casual Dining</td>\n",
              "      <td>Panipuri, Gol Gappe</td>\n",
              "      <td>North Indian, Rajasthani</td>\n",
              "      <td>600</td>\n",
              "      <td>[('Rated 4.0', 'RATED\\n  Very good restaurant ...</td>\n",
              "      <td>[]</td>\n",
              "      <td>Buffet</td>\n",
              "      <td>Banashankari</td>\n",
              "    </tr>\n",
              "  </tbody>\n",
              "</table>\n",
              "</div>"
            ],
            "text/plain": [
              "                    name online_order  ... listed_in(type) listed_in(city)\n",
              "0                  Jalsa          Yes  ...          Buffet    Banashankari\n",
              "1         Spice Elephant          Yes  ...          Buffet    Banashankari\n",
              "2        San Churro Cafe          Yes  ...          Buffet    Banashankari\n",
              "3  Addhuri Udupi Bhojana           No  ...          Buffet    Banashankari\n",
              "4          Grand Village           No  ...          Buffet    Banashankari\n",
              "\n",
              "[5 rows x 13 columns]"
            ]
          },
          "metadata": {
            "tags": []
          },
          "execution_count": 14
        }
      ]
    },
    {
      "cell_type": "markdown",
      "metadata": {
        "id": "QXAGz72koIXT",
        "colab_type": "text"
      },
      "source": [
        "in the column 'rate', '/5' is not necessary."
      ]
    },
    {
      "cell_type": "code",
      "metadata": {
        "id": "yKnEYpFArCNu",
        "colab_type": "code",
        "colab": {}
      },
      "source": [
        "df3.rate = df3.rate.replace(\"NEW\", np.nan)\n",
        "df3.dropna(how ='any', inplace = True)"
      ],
      "execution_count": 0,
      "outputs": []
    },
    {
      "cell_type": "code",
      "metadata": {
        "id": "MrWUSXUjoxcD",
        "colab_type": "code",
        "colab": {
          "base_uri": "https://localhost:8080/",
          "height": 581
        },
        "outputId": "bd3a9112-6d39-4b07-a054-fc864905615f"
      },
      "source": [
        "\n",
        "df3.rate = df3.rate.astype(str)\n",
        "df3.rate =df3.rate.apply(lambda x: x.replace('/5',''))\n",
        "df3.rate = df3.rate.apply(lambda x: float(x))\n",
        "df3.rename(columns={'approx_cost(for two people)': 'average_cost', 'listed_in(city)': 'locality'}, inplace=True)\n",
        "df3.head()"
      ],
      "execution_count": 16,
      "outputs": [
        {
          "output_type": "execute_result",
          "data": {
            "text/html": [
              "<div>\n",
              "<style scoped>\n",
              "    .dataframe tbody tr th:only-of-type {\n",
              "        vertical-align: middle;\n",
              "    }\n",
              "\n",
              "    .dataframe tbody tr th {\n",
              "        vertical-align: top;\n",
              "    }\n",
              "\n",
              "    .dataframe thead th {\n",
              "        text-align: right;\n",
              "    }\n",
              "</style>\n",
              "<table border=\"1\" class=\"dataframe\">\n",
              "  <thead>\n",
              "    <tr style=\"text-align: right;\">\n",
              "      <th></th>\n",
              "      <th>name</th>\n",
              "      <th>online_order</th>\n",
              "      <th>book_table</th>\n",
              "      <th>rate</th>\n",
              "      <th>votes</th>\n",
              "      <th>rest_type</th>\n",
              "      <th>dish_liked</th>\n",
              "      <th>cuisines</th>\n",
              "      <th>average_cost</th>\n",
              "      <th>reviews_list</th>\n",
              "      <th>menu_item</th>\n",
              "      <th>listed_in(type)</th>\n",
              "      <th>locality</th>\n",
              "    </tr>\n",
              "  </thead>\n",
              "  <tbody>\n",
              "    <tr>\n",
              "      <th>0</th>\n",
              "      <td>Jalsa</td>\n",
              "      <td>Yes</td>\n",
              "      <td>Yes</td>\n",
              "      <td>4.1</td>\n",
              "      <td>775</td>\n",
              "      <td>Casual Dining</td>\n",
              "      <td>Pasta, Lunch Buffet, Masala Papad, Paneer Laja...</td>\n",
              "      <td>North Indian, Mughlai, Chinese</td>\n",
              "      <td>800</td>\n",
              "      <td>[('Rated 4.0', 'RATED\\n  A beautiful place to ...</td>\n",
              "      <td>[]</td>\n",
              "      <td>Buffet</td>\n",
              "      <td>Banashankari</td>\n",
              "    </tr>\n",
              "    <tr>\n",
              "      <th>1</th>\n",
              "      <td>Spice Elephant</td>\n",
              "      <td>Yes</td>\n",
              "      <td>No</td>\n",
              "      <td>4.1</td>\n",
              "      <td>787</td>\n",
              "      <td>Casual Dining</td>\n",
              "      <td>Momos, Lunch Buffet, Chocolate Nirvana, Thai G...</td>\n",
              "      <td>Chinese, North Indian, Thai</td>\n",
              "      <td>800</td>\n",
              "      <td>[('Rated 4.0', 'RATED\\n  Had been here for din...</td>\n",
              "      <td>[]</td>\n",
              "      <td>Buffet</td>\n",
              "      <td>Banashankari</td>\n",
              "    </tr>\n",
              "    <tr>\n",
              "      <th>2</th>\n",
              "      <td>San Churro Cafe</td>\n",
              "      <td>Yes</td>\n",
              "      <td>No</td>\n",
              "      <td>3.8</td>\n",
              "      <td>918</td>\n",
              "      <td>Cafe, Casual Dining</td>\n",
              "      <td>Churros, Cannelloni, Minestrone Soup, Hot Choc...</td>\n",
              "      <td>Cafe, Mexican, Italian</td>\n",
              "      <td>800</td>\n",
              "      <td>[('Rated 3.0', \"RATED\\n  Ambience is not that ...</td>\n",
              "      <td>[]</td>\n",
              "      <td>Buffet</td>\n",
              "      <td>Banashankari</td>\n",
              "    </tr>\n",
              "    <tr>\n",
              "      <th>3</th>\n",
              "      <td>Addhuri Udupi Bhojana</td>\n",
              "      <td>No</td>\n",
              "      <td>No</td>\n",
              "      <td>3.7</td>\n",
              "      <td>88</td>\n",
              "      <td>Quick Bites</td>\n",
              "      <td>Masala Dosa</td>\n",
              "      <td>South Indian, North Indian</td>\n",
              "      <td>300</td>\n",
              "      <td>[('Rated 4.0', \"RATED\\n  Great food and proper...</td>\n",
              "      <td>[]</td>\n",
              "      <td>Buffet</td>\n",
              "      <td>Banashankari</td>\n",
              "    </tr>\n",
              "    <tr>\n",
              "      <th>4</th>\n",
              "      <td>Grand Village</td>\n",
              "      <td>No</td>\n",
              "      <td>No</td>\n",
              "      <td>3.8</td>\n",
              "      <td>166</td>\n",
              "      <td>Casual Dining</td>\n",
              "      <td>Panipuri, Gol Gappe</td>\n",
              "      <td>North Indian, Rajasthani</td>\n",
              "      <td>600</td>\n",
              "      <td>[('Rated 4.0', 'RATED\\n  Very good restaurant ...</td>\n",
              "      <td>[]</td>\n",
              "      <td>Buffet</td>\n",
              "      <td>Banashankari</td>\n",
              "    </tr>\n",
              "  </tbody>\n",
              "</table>\n",
              "</div>"
            ],
            "text/plain": [
              "                    name online_order  ... listed_in(type)      locality\n",
              "0                  Jalsa          Yes  ...          Buffet  Banashankari\n",
              "1         Spice Elephant          Yes  ...          Buffet  Banashankari\n",
              "2        San Churro Cafe          Yes  ...          Buffet  Banashankari\n",
              "3  Addhuri Udupi Bhojana           No  ...          Buffet  Banashankari\n",
              "4          Grand Village           No  ...          Buffet  Banashankari\n",
              "\n",
              "[5 rows x 13 columns]"
            ]
          },
          "metadata": {
            "tags": []
          },
          "execution_count": 16
        }
      ]
    },
    {
      "cell_type": "code",
      "metadata": {
        "id": "ZTaNAKlabhrK",
        "colab_type": "code",
        "colab": {
          "base_uri": "https://localhost:8080/",
          "height": 35
        },
        "outputId": "6481d7cd-331a-409c-bc78-2a21ac7b4d06"
      },
      "source": [
        "len(df3)"
      ],
      "execution_count": 17,
      "outputs": [
        {
          "output_type": "execute_result",
          "data": {
            "text/plain": [
              "23259"
            ]
          },
          "metadata": {
            "tags": []
          },
          "execution_count": 17
        }
      ]
    },
    {
      "cell_type": "code",
      "metadata": {
        "id": "YOMNK7KCb2q_",
        "colab_type": "code",
        "colab": {
          "base_uri": "https://localhost:8080/",
          "height": 467
        },
        "outputId": "3079278c-89ce-4e99-b5da-c1687efc200c"
      },
      "source": [
        "df3['rest_type'].unique()"
      ],
      "execution_count": 18,
      "outputs": [
        {
          "output_type": "execute_result",
          "data": {
            "text/plain": [
              "array(['Casual Dining', 'Cafe, Casual Dining', 'Quick Bites',\n",
              "       'Casual Dining, Cafe', 'Cafe', 'Quick Bites, Cafe', 'Delivery',\n",
              "       'Dessert Parlor', 'Pub', 'Beverage Shop', 'Bar',\n",
              "       'Takeaway, Delivery', 'Food Truck', 'Quick Bites, Dessert Parlor',\n",
              "       'Pub, Casual Dining', 'Casual Dining, Bar', 'Bakery', 'Sweet Shop',\n",
              "       'Dessert Parlor, Beverage Shop', 'Beverage Shop, Quick Bites',\n",
              "       'Microbrewery, Casual Dining', 'Sweet Shop, Quick Bites', 'Lounge',\n",
              "       'Food Court', 'Cafe, Bakery', 'Microbrewery', 'Kiosk', 'Pub, Bar',\n",
              "       'Casual Dining, Pub', 'Cafe, Quick Bites', 'Lounge, Bar',\n",
              "       'Bakery, Quick Bites', 'Dessert Parlor, Quick Bites',\n",
              "       'Bar, Casual Dining', 'Beverage Shop, Dessert Parlor',\n",
              "       'Casual Dining, Microbrewery', 'Mess', 'Lounge, Casual Dining',\n",
              "       'Cafe, Dessert Parlor', 'Dessert Parlor, Cafe',\n",
              "       'Bakery, Dessert Parlor', 'Quick Bites, Sweet Shop', 'Takeaway',\n",
              "       'Microbrewery, Pub', 'Club', 'Fine Dining', 'Bakery, Cafe',\n",
              "       'Beverage Shop, Cafe', 'Pub, Cafe', 'Casual Dining, Irani Cafee',\n",
              "       'Food Court, Quick Bites', 'Quick Bites, Beverage Shop',\n",
              "       'Fine Dining, Lounge', 'Quick Bites, Bakery', 'Bar, Quick Bites',\n",
              "       'Pub, Microbrewery', 'Microbrewery, Lounge',\n",
              "       'Fine Dining, Microbrewery', 'Fine Dining, Bar',\n",
              "       'Dessert Parlor, Kiosk', 'Cafe, Bar', 'Quick Bites, Food Court',\n",
              "       'Casual Dining, Lounge', 'Microbrewery, Bar', 'Cafe, Lounge',\n",
              "       'Bar, Pub', 'Lounge, Cafe', 'Dessert Parlor, Bakery',\n",
              "       'Club, Casual Dining', 'Lounge, Microbrewery', 'Dhaba',\n",
              "       'Bar, Lounge', 'Food Court, Casual Dining'], dtype=object)"
            ]
          },
          "metadata": {
            "tags": []
          },
          "execution_count": 18
        }
      ]
    },
    {
      "cell_type": "code",
      "metadata": {
        "id": "GJttVOYccWyj",
        "colab_type": "code",
        "colab": {}
      },
      "source": [
        "df3['rest_type'].value_counts()"
      ],
      "execution_count": 0,
      "outputs": []
    },
    {
      "cell_type": "code",
      "metadata": {
        "id": "NyH9niFjsuDG",
        "colab_type": "code",
        "colab": {
          "base_uri": "https://localhost:8080/",
          "height": 161
        },
        "outputId": "cdb69542-ce72-43cc-eb2d-a66368edce75"
      },
      "source": [
        "df3['listed_in(type)'].value_counts()"
      ],
      "execution_count": 20,
      "outputs": [
        {
          "output_type": "execute_result",
          "data": {
            "text/plain": [
              "Delivery              10664\n",
              "Dine-out               8009\n",
              "Desserts               1364\n",
              "Cafes                  1066\n",
              "Drinks & nightlife      879\n",
              "Buffet                  754\n",
              "Pubs and bars           523\n",
              "Name: listed_in(type), dtype: int64"
            ]
          },
          "metadata": {
            "tags": []
          },
          "execution_count": 20
        }
      ]
    },
    {
      "cell_type": "code",
      "metadata": {
        "id": "rLOnO0LncxU-",
        "colab_type": "code",
        "colab": {}
      },
      "source": [
        "cafe_data = df3.loc[df3['listed_in(type)'] == 'Cafes']"
      ],
      "execution_count": 0,
      "outputs": []
    },
    {
      "cell_type": "code",
      "metadata": {
        "id": "5Dm-jUMTdM41",
        "colab_type": "code",
        "colab": {
          "base_uri": "https://localhost:8080/",
          "height": 632
        },
        "outputId": "85142a2b-7ed2-46a2-fbc9-9ecbf3bc9903"
      },
      "source": [
        "cafe_data.head(5)"
      ],
      "execution_count": 22,
      "outputs": [
        {
          "output_type": "execute_result",
          "data": {
            "text/html": [
              "<div>\n",
              "<style scoped>\n",
              "    .dataframe tbody tr th:only-of-type {\n",
              "        vertical-align: middle;\n",
              "    }\n",
              "\n",
              "    .dataframe tbody tr th {\n",
              "        vertical-align: top;\n",
              "    }\n",
              "\n",
              "    .dataframe thead th {\n",
              "        text-align: right;\n",
              "    }\n",
              "</style>\n",
              "<table border=\"1\" class=\"dataframe\">\n",
              "  <thead>\n",
              "    <tr style=\"text-align: right;\">\n",
              "      <th></th>\n",
              "      <th>name</th>\n",
              "      <th>online_order</th>\n",
              "      <th>book_table</th>\n",
              "      <th>rate</th>\n",
              "      <th>votes</th>\n",
              "      <th>rest_type</th>\n",
              "      <th>dish_liked</th>\n",
              "      <th>cuisines</th>\n",
              "      <th>average_cost</th>\n",
              "      <th>reviews_list</th>\n",
              "      <th>menu_item</th>\n",
              "      <th>listed_in(type)</th>\n",
              "      <th>locality</th>\n",
              "    </tr>\n",
              "  </thead>\n",
              "  <tbody>\n",
              "    <tr>\n",
              "      <th>7</th>\n",
              "      <td>Onesta</td>\n",
              "      <td>Yes</td>\n",
              "      <td>Yes</td>\n",
              "      <td>4.6</td>\n",
              "      <td>2556</td>\n",
              "      <td>Casual Dining, Cafe</td>\n",
              "      <td>Farmhouse Pizza, Chocolate Banana, Virgin Moji...</td>\n",
              "      <td>Pizza, Cafe, Italian</td>\n",
              "      <td>600</td>\n",
              "      <td>[('Rated 5.0', 'RATED\\n  I personally really l...</td>\n",
              "      <td>[]</td>\n",
              "      <td>Cafes</td>\n",
              "      <td>Banashankari</td>\n",
              "    </tr>\n",
              "    <tr>\n",
              "      <th>8</th>\n",
              "      <td>Penthouse Cafe</td>\n",
              "      <td>Yes</td>\n",
              "      <td>No</td>\n",
              "      <td>4.0</td>\n",
              "      <td>324</td>\n",
              "      <td>Cafe</td>\n",
              "      <td>Pizza, Mocktails, Coffee, Nachos, Salad, Pasta...</td>\n",
              "      <td>Cafe, Italian, Continental</td>\n",
              "      <td>700</td>\n",
              "      <td>[('Rated 3.0', \"RATED\\n  I had been to this pl...</td>\n",
              "      <td>[]</td>\n",
              "      <td>Cafes</td>\n",
              "      <td>Banashankari</td>\n",
              "    </tr>\n",
              "    <tr>\n",
              "      <th>9</th>\n",
              "      <td>Smacznego</td>\n",
              "      <td>Yes</td>\n",
              "      <td>No</td>\n",
              "      <td>4.2</td>\n",
              "      <td>504</td>\n",
              "      <td>Cafe</td>\n",
              "      <td>Waffles, Pasta, Coleslaw Sandwich, Choco Waffl...</td>\n",
              "      <td>Cafe, Mexican, Italian, Momos, Beverages</td>\n",
              "      <td>550</td>\n",
              "      <td>[('Rated 4.0', \"RATED\\n  Easy to locate\\nVFM 3...</td>\n",
              "      <td>[]</td>\n",
              "      <td>Cafes</td>\n",
              "      <td>Banashankari</td>\n",
              "    </tr>\n",
              "    <tr>\n",
              "      <th>10</th>\n",
              "      <td>CafÃÂÃÂÃÂÃÂÃÂÃÂÃÂÃÂ© Down The A...</td>\n",
              "      <td>Yes</td>\n",
              "      <td>No</td>\n",
              "      <td>4.1</td>\n",
              "      <td>402</td>\n",
              "      <td>Cafe</td>\n",
              "      <td>Waffles, Pasta, Crispy Chicken, Honey Chilli C...</td>\n",
              "      <td>Cafe</td>\n",
              "      <td>500</td>\n",
              "      <td>[('Rated 4.0', 'RATED\\n  We ended up here on a...</td>\n",
              "      <td>[]</td>\n",
              "      <td>Cafes</td>\n",
              "      <td>Banashankari</td>\n",
              "    </tr>\n",
              "    <tr>\n",
              "      <th>11</th>\n",
              "      <td>Cafe Shuffle</td>\n",
              "      <td>Yes</td>\n",
              "      <td>Yes</td>\n",
              "      <td>4.2</td>\n",
              "      <td>150</td>\n",
              "      <td>Cafe</td>\n",
              "      <td>Mocktails, Peri Fries, Lasagne, Pizza, Chicken...</td>\n",
              "      <td>Cafe, Italian, Continental</td>\n",
              "      <td>600</td>\n",
              "      <td>[('Rated 1.0', \"RATED\\n \\n\\nHorrible. Not even...</td>\n",
              "      <td>[]</td>\n",
              "      <td>Cafes</td>\n",
              "      <td>Banashankari</td>\n",
              "    </tr>\n",
              "  </tbody>\n",
              "</table>\n",
              "</div>"
            ],
            "text/plain": [
              "                                                 name  ...      locality\n",
              "7                                              Onesta  ...  Banashankari\n",
              "8                                      Penthouse Cafe  ...  Banashankari\n",
              "9                                           Smacznego  ...  Banashankari\n",
              "10  CafÃÂÃÂÃÂÃÂÃÂÃÂÃÂÃÂ© Down The A...  ...  Banashankari\n",
              "11                                       Cafe Shuffle  ...  Banashankari\n",
              "\n",
              "[5 rows x 13 columns]"
            ]
          },
          "metadata": {
            "tags": []
          },
          "execution_count": 22
        }
      ]
    },
    {
      "cell_type": "markdown",
      "metadata": {
        "id": "kfl_0Rm71gmM",
        "colab_type": "text"
      },
      "source": [
        "the best cafes   \n",
        "cheapest  \n",
        "highly rated  \n",
        "reliable(large number of votes)options"
      ]
    },
    {
      "cell_type": "code",
      "metadata": {
        "id": "nzAEwZU4nYLW",
        "colab_type": "code",
        "colab": {
          "base_uri": "https://localhost:8080/",
          "height": 53
        },
        "outputId": "0f65c2bb-9afa-434a-d0cf-d3bfeb8a1a62"
      },
      "source": [
        "cafe_data.average_cost.describe()\n",
        "maxi=cafe_data.average_cost.max()\n",
        "print('max of average cost in cafes:',maxi)\n",
        "mean=cafe_data.rate.mean()\n",
        "print('mean rate of cafes:', mean)"
      ],
      "execution_count": 23,
      "outputs": [
        {
          "output_type": "stream",
          "text": [
            "max of average cost in cafes: 950\n",
            "mean rate of cafes: 4.027016885553465\n"
          ],
          "name": "stdout"
        }
      ]
    },
    {
      "cell_type": "markdown",
      "metadata": {
        "id": "GxM1Rdcc4hz6",
        "colab_type": "text"
      },
      "source": [
        "cheapest: the cafes with average cost 1/4th the average cost of most expensive cafe in the dataframe.  \n",
        "1/4th of 950 is 237.5"
      ]
    },
    {
      "cell_type": "code",
      "metadata": {
        "id": "VDA_BPbQAKyY",
        "colab_type": "code",
        "colab": {}
      },
      "source": [
        "cafe_data['test']= cafe_data['average_cost'].str.replace(',','').astype(float)"
      ],
      "execution_count": 0,
      "outputs": []
    },
    {
      "cell_type": "code",
      "metadata": {
        "id": "SEKiYno-5YCh",
        "colab_type": "code",
        "colab": {}
      },
      "source": [
        "cafe_data= cafe_data.drop_duplicates(subset='name',keep='first')\n",
        "dups_name = cafe_data.pivot_table(index=['name'],aggfunc='size')\n",
        "newcafe_data=cafe_data[['name','test','locality','rest_type','cuisines']].groupby(['test'], sort = True)\n",
        "\n"
      ],
      "execution_count": 0,
      "outputs": []
    },
    {
      "cell_type": "code",
      "metadata": {
        "id": "Q4z22NCp5rFh",
        "colab_type": "code",
        "colab": {}
      },
      "source": [
        "#filter1 = filter(lambda x: x <= 237,newcafe_data['average_cost'])\n",
        "#newcafe_data['test']= newcafe_data['average_cost'].str.replace(',','').astype(float)\n",
        "#newcafe_data=newcafe_data.filter(lambda x: x.mean() <= 237,newcafe_data)\n",
        "#print(filter1)\n",
        "newcafe_data=newcafe_data.filter(lambda x: x['test'].mean() <= 237)\n",
        "\n"
      ],
      "execution_count": 0,
      "outputs": []
    },
    {
      "cell_type": "code",
      "metadata": {
        "id": "kPZS8YsgwYIw",
        "colab_type": "code",
        "colab": {
          "base_uri": "https://localhost:8080/",
          "height": 55
        },
        "outputId": "ff391ca3-a5ea-46f0-9bd3-309c824455e9"
      },
      "source": [
        "#newcafe_data=pd.DataFrame(list(filter1))\n",
        "\n",
        "#newcafe_data=filter1.sort_values(by=['average_cost'])\n",
        "newcafe_data=newcafe_data.sort_values(by=['test'])\n",
        "newcafe_data\n",
        "\n",
        "\"\"\"\n",
        "\n",
        "targets1 = cafe_data[(cafe_data['rate'] >= 4.5) & (cafe_data['average_cost'].mean() <= 237) & (cafe_data['votes'] >= 175)].sort_values('average_cost')\n",
        "targets2 = cafe_data[(cafe_data['rate'] >= 4.5) & (cafe_data['average_cost'].mean() >= 450) & (cafe_data['votes'] >= 175)].sort_values('average_cost')\n",
        "\"\"\"\n"
      ],
      "execution_count": 66,
      "outputs": [
        {
          "output_type": "execute_result",
          "data": {
            "text/plain": [
              "\"\\n\\ntargets1 = cafe_data[(cafe_data['rate'] >= 4.5) & (cafe_data['average_cost'].mean() <= 237) & (cafe_data['votes'] >= 175)].sort_values('average_cost')\\ntargets2 = cafe_data[(cafe_data['rate'] >= 4.5) & (cafe_data['average_cost'].mean() >= 450) & (cafe_data['votes'] >= 175)].sort_values('average_cost')\\n\""
            ]
          },
          "metadata": {
            "tags": []
          },
          "execution_count": 66
        }
      ]
    },
    {
      "cell_type": "code",
      "metadata": {
        "id": "lZJTT16IA4v0",
        "colab_type": "code",
        "colab": {}
      },
      "source": [
        "newcafe_data_expensive=cafe_data[['name','test','locality','rest_type','cuisines']].groupby(['test'], sort = True)\n",
        "newcafe_data_expensive=newcafe_data_expensive.filter(lambda x: x['test'].mean() >= 560)\n",
        "newcafe_data_expensive=newcafe_data_expensive.sort_values(by=['test'])"
      ],
      "execution_count": 0,
      "outputs": []
    },
    {
      "cell_type": "code",
      "metadata": {
        "id": "HYrGql7sDJBS",
        "colab_type": "code",
        "colab": {
          "base_uri": "https://localhost:8080/",
          "height": 287
        },
        "outputId": "1352089f-7edb-401c-ef0b-ea701425689f"
      },
      "source": [
        "newcafe_data_rate=cafe_data[['name','rate']].groupby(['rate'], sort = True)\n",
        "newcafe_data_rate=newcafe_data_rate.filter(lambda x: x['rate'].mean() >= 4.5)\n",
        "newcafe_data_rate=newcafe_data_rate.sort_values(by=['rate'])\n",
        "cafe_data.rate.value_counts()\n",
        "cafe_data.rate.unique()\n",
        "cafe_data.nunique()"
      ],
      "execution_count": 69,
      "outputs": [
        {
          "output_type": "execute_result",
          "data": {
            "text/plain": [
              "name               338\n",
              "online_order         2\n",
              "book_table           2\n",
              "rate                23\n",
              "votes              261\n",
              "rest_type           19\n",
              "dish_liked         332\n",
              "cuisines           207\n",
              "average_cost        26\n",
              "reviews_list       336\n",
              "menu_item           83\n",
              "listed_in(type)      1\n",
              "locality            25\n",
              "test                26\n",
              "dtype: int64"
            ]
          },
          "metadata": {
            "tags": []
          },
          "execution_count": 69
        }
      ]
    },
    {
      "cell_type": "code",
      "metadata": {
        "id": "AjFFTpEQER-G",
        "colab_type": "code",
        "colab": {
          "base_uri": "https://localhost:8080/",
          "height": 204
        },
        "outputId": "8b7d3e24-cde9-4e3c-e1ff-b8e5c86f02ac"
      },
      "source": [
        "newcafe_data"
      ],
      "execution_count": 72,
      "outputs": [
        {
          "output_type": "execute_result",
          "data": {
            "text/html": [
              "<div>\n",
              "<style scoped>\n",
              "    .dataframe tbody tr th:only-of-type {\n",
              "        vertical-align: middle;\n",
              "    }\n",
              "\n",
              "    .dataframe tbody tr th {\n",
              "        vertical-align: top;\n",
              "    }\n",
              "\n",
              "    .dataframe thead th {\n",
              "        text-align: right;\n",
              "    }\n",
              "</style>\n",
              "<table border=\"1\" class=\"dataframe\">\n",
              "  <thead>\n",
              "    <tr style=\"text-align: right;\">\n",
              "      <th></th>\n",
              "      <th>name</th>\n",
              "      <th>test</th>\n",
              "      <th>locality</th>\n",
              "      <th>rest_type</th>\n",
              "      <th>cuisines</th>\n",
              "    </tr>\n",
              "  </thead>\n",
              "  <tbody>\n",
              "    <tr>\n",
              "      <th>2527</th>\n",
              "      <td>4th Tea Block</td>\n",
              "      <td>150.0</td>\n",
              "      <td>Basavanagudi</td>\n",
              "      <td>Cafe</td>\n",
              "      <td>Cafe</td>\n",
              "    </tr>\n",
              "    <tr>\n",
              "      <th>8307</th>\n",
              "      <td>Kullad Cafe</td>\n",
              "      <td>200.0</td>\n",
              "      <td>BTM</td>\n",
              "      <td>Cafe</td>\n",
              "      <td>North Indian, Cafe, Fast Food, Beverages</td>\n",
              "    </tr>\n",
              "    <tr>\n",
              "      <th>8328</th>\n",
              "      <td>Fabindia Cafe</td>\n",
              "      <td>200.0</td>\n",
              "      <td>BTM</td>\n",
              "      <td>Cafe</td>\n",
              "      <td>Cafe, Street Food</td>\n",
              "    </tr>\n",
              "    <tr>\n",
              "      <th>17573</th>\n",
              "      <td>Chai Days</td>\n",
              "      <td>200.0</td>\n",
              "      <td>Indiranagar</td>\n",
              "      <td>Cafe</td>\n",
              "      <td>Cafe, Tea, Beverages, Fast Food</td>\n",
              "    </tr>\n",
              "    <tr>\n",
              "      <th>17609</th>\n",
              "      <td>Chai Cafe</td>\n",
              "      <td>200.0</td>\n",
              "      <td>Indiranagar</td>\n",
              "      <td>Cafe</td>\n",
              "      <td>Cafe</td>\n",
              "    </tr>\n",
              "  </tbody>\n",
              "</table>\n",
              "</div>"
            ],
            "text/plain": [
              "                name   test  ... rest_type                                  cuisines\n",
              "2527   4th Tea Block  150.0  ...      Cafe                                      Cafe\n",
              "8307     Kullad Cafe  200.0  ...      Cafe  North Indian, Cafe, Fast Food, Beverages\n",
              "8328   Fabindia Cafe  200.0  ...      Cafe                         Cafe, Street Food\n",
              "17573      Chai Days  200.0  ...      Cafe           Cafe, Tea, Beverages, Fast Food\n",
              "17609      Chai Cafe  200.0  ...      Cafe                                      Cafe\n",
              "\n",
              "[5 rows x 5 columns]"
            ]
          },
          "metadata": {
            "tags": []
          },
          "execution_count": 72
        }
      ]
    },
    {
      "cell_type": "markdown",
      "metadata": {
        "id": "oqwmzzk46esI",
        "colab_type": "text"
      },
      "source": [
        "#Evaluation  \n",
        "Report Execution on Data;  \n",
        "Perform and Report Testing;  \n",
        "Perform Efficiency Analysis;  \n",
        "Do Possible Comparative Study  \n",
        "W-200"
      ]
    },
    {
      "cell_type": "markdown",
      "metadata": {
        "id": "Tn-6QdE76ir3",
        "colab_type": "text"
      },
      "source": [
        "#Conclusion  \n",
        "Discuss Reflections;  \n",
        "Propose Possible Improvements  \n",
        "W-100"
      ]
    },
    {
      "cell_type": "markdown",
      "metadata": {
        "id": "VkJRbxiq6mMm",
        "colab_type": "text"
      },
      "source": [
        "#Ethical"
      ]
    }
  ]
}
