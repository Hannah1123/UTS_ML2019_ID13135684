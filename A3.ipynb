{
  "nbformat": 4,
  "nbformat_minor": 0,
  "metadata": {
    "colab": {
      "name": "A3.ipynb",
      "provenance": [],
      "collapsed_sections": [],
      "include_colab_link": true
    },
    "kernelspec": {
      "name": "python3",
      "display_name": "Python 3"
    }
  },
  "cells": [
    {
      "cell_type": "markdown",
      "metadata": {
        "id": "view-in-github",
        "colab_type": "text"
      },
      "source": [
        "<a href=\"https://colab.research.google.com/github/Hannah1123/UTS_ML2019_ID13135684/blob/master/A3.ipynb\" target=\"_parent\"><img src=\"https://colab.research.google.com/assets/colab-badge.svg\" alt=\"Open In Colab\"/></a>"
      ]
    },
    {
      "cell_type": "markdown",
      "metadata": {
        "id": "sS_UEwUlj4SM",
        "colab_type": "text"
      },
      "source": [
        "#Anime Recommendation System"
      ]
    },
    {
      "cell_type": "markdown",
      "metadata": {
        "id": "zJHtJM95j-Yu",
        "colab_type": "text"
      },
      "source": [
        "#Aims"
      ]
    },
    {
      "cell_type": "markdown",
      "metadata": {
        "id": "h9teyZStrTk8",
        "colab_type": "text"
      },
      "source": [
        "A personalized recommender system is a system that can give users recommendation when they get lost in a field with large information. Collaborative filtering algorithms are effective algorithms widely used in recommendation systems.   \n",
        "The aim of this project is to create a personalized recommender system for finding anime that users might like based on their historical record and comments using model-based collaborative filtering algorithms.  \n",
        "The key objectives of this project can be listed as follows:\n",
        "\n",
        "1.   collect and clean data sets related to anime ratings and comments;\n",
        "2.   set a training data set and a corresponding test data set;\n",
        "3.   evaluate several algorithms for the recommendation system;\n",
        "4.   validate the recommendation model for anime.\n",
        "\n",
        "\n",
        "\n",
        "\n",
        "\n",
        "\n",
        "\n",
        "\n",
        "\n"
      ]
    },
    {
      "cell_type": "markdown",
      "metadata": {
        "id": "WtXclBu9kEc2",
        "colab_type": "text"
      },
      "source": [
        "#Background"
      ]
    },
    {
      "cell_type": "markdown",
      "metadata": {
        "id": "m7RdPwxpDF4b",
        "colab_type": "text"
      },
      "source": [
        "The term 'collaborative filtering-based recommendation' refers to a collective effort to filter out iterms that are not of interest to the user. Its realization process is for a particular user to find the users with similar interests of other users, and then recommending their interests to the user.\n",
        "The implementation of recommendation system based on collaborative filtering algorithms can be divided into two categories: one is memory-based collaborative filtering, and the other is model-based collaborative filtering. Among them, the model-based collaborative filtering recommendation system combines recommendation systems with machine learning algorithms to improve the accuracy of the recommendation. For now, there are many literatures and applications about model-based collaborative filtering recommendation systems. Deep learning algorithms are applied to model-based collaborative filtering recommendation systems to improve the accuracy of recommendation. The interaction between deep learning and recomender system shows great potential for improving recommendation systems.  \n",
        "In recent studies, there are a number of related research. Wang et al.(2015) have present the success of applying deep learning to the content information and collaborative filtering. Hidasi et al.(2016) firstly apply recurrent nueral network(RNN) to session-based recommendation. Covington et al. (2016) established a deep neural networks for Youtube recommendations which shows the high effeciency in the result. Zhao et al. (2017) addressed recurrent nueral network(RNN) to collaborative filtering for achieving high recommendation quality in Top-N recommendation system.Wu et al.(2019) apply graph neural networks for  which improve the performance.  \n",
        "\n",
        "In this project, multiple model-based collaborative filtering algorithms will be implemented, and algorithms will be fused  through bagging, which is a model fusion method, in order to improve the accuracy of recommendation.\n"
      ]
    },
    {
      "cell_type": "markdown",
      "metadata": {
        "id": "_vN618FlkINC",
        "colab_type": "text"
      },
      "source": [
        "#Research Project  \n",
        "\n"
      ]
    },
    {
      "cell_type": "markdown",
      "metadata": {
        "id": "nGMrhR_y1fxF",
        "colab_type": "text"
      },
      "source": [
        "In this project, a recommendation system can collect and analysis user's searching history to recommend products users may interest in potentially, which can improve the user experience. For now, there are more and more people interested in anime, but the amount of anime is really large, anime lovers are facing a trouble that how to find anime they interest in rapidly and accurately. Recommendation system is exactly right for the demand.Through recommendation system, anime web can push suitable kinds of anime for different customers according to there searching and watching history. This could be a important service to attract customers because it can help customers save time and get anime they really love.  \n",
        "The innovation of this project is thst it combine several algorithms than using bagging to find the best result.   \n",
        "  \n",
        "The breakdown of tasks shows as follow:\n",
        "\n",
        "1.   Collect data sets\n",
        "2.   Construct and clean the data sets\n",
        "3.   Divide the data sets into training data and test data\n",
        "4.   Divide the training data into 5 parts for cross validation\n",
        "5.   Build model based on K-nearest Neighbor, recurrent neural network and K-Means clustering using Python\n",
        "6.   using bagging to find the model with the best result\n",
        "7.   Test using Top-N recommendation based on test data    \n",
        "\n",
        "The timelines is shown as follow:\n",
        "![timelines](https://drive.google.com/uc?id=1bFq9yaS7KvbkCKwFzw3i3PzebszeIJo4)\n",
        "\n",
        "\n",
        "By adding a recommendation system on an anime web, customers can get a better using experience,which could help the web stand out from competitors. As a result, it can attract more users to the web to increase the views. As we all know, for a web that supports performance platform, more views means more great authors would like to cooperate with the web. Because of this, more high quality works can help web come into a virtuous cycle. That is the result that investors want to reach: their investee become the leader in a industry with high profitability.\n"
      ]
    },
    {
      "cell_type": "markdown",
      "metadata": {
        "id": "conv8RbCkptQ",
        "colab_type": "text"
      },
      "source": [
        "#Budget  \n"
      ]
    },
    {
      "cell_type": "markdown",
      "metadata": {
        "id": "rjd5J7aKN83q",
        "colab_type": "text"
      },
      "source": [
        "The table showed below presents the compoments and approximate amount to be cost of each component which consist of personnel, equipment and rent for working place, water, electric and so on."
      ]
    },
    {
      "cell_type": "markdown",
      "metadata": {
        "id": "S-jERvIR3h0z",
        "colab_type": "text"
      },
      "source": [
        "| suggest component | cost/dollars |\n",
        "| ----------------- | ------------ |\n",
        "| Personnel | 250000 |\n",
        "| Equipment | 50000 |\n",
        "| other | 30000 |\n",
        "| total | 330000 |"
      ]
    },
    {
      "cell_type": "markdown",
      "metadata": {
        "id": "OGbTVL33kw7Y",
        "colab_type": "text"
      },
      "source": [
        "#Personnel"
      ]
    },
    {
      "cell_type": "markdown",
      "metadata": {
        "id": "L2PhqpoAHVE9",
        "colab_type": "text"
      },
      "source": [
        "Personnel this project needs includes ome project manager, one develop engineer, one quality assurance engineer and one UI designer. The project manager is responsible for the design of the overall project plan and the implementation and control of the project. Development engineer is in charge of the design and implementation of code. Quality assureance engineer take charge of the test of the system implemented by development engineer. Last but not least, the design of users interface is accomplished by UI designer. The following table states the personnel and their contributions respectively.    "
      ]
    },
    {
      "cell_type": "markdown",
      "metadata": {
        "id": "nDLwuGJ66nkM",
        "colab_type": "text"
      },
      "source": [
        "| Position | number | Contributions |\n",
        "| ---- | ---- | ---- |\n",
        "|Project Manager | 1 | manage the project |\n",
        "|Development Engineer | 1 | code implementation |\n",
        "|Quality Assurance Engineer | 1 | test |\n",
        "| UI Designer | 1 | UI design |\n",
        "\n"
      ]
    },
    {
      "cell_type": "markdown",
      "metadata": {
        "id": "DghVnTzjkzYi",
        "colab_type": "text"
      },
      "source": [
        "#Reference"
      ]
    },
    {
      "cell_type": "markdown",
      "metadata": {
        "id": "EBjo1uaGWQef",
        "colab_type": "text"
      },
      "source": [
        "Wang, H., Wang, N., & Yeung, D. Y. 2015, 'Collaborative deep learning for recommender systems', In Proceedings of the 21th ACM SIGKDD international conference on knowledge discovery and data mining pp. 1235-1244, ACM.\n",
        "Hidasi, B., Karatzoglou, A., Baltrunas, L., & Tikk, D. 2015. 'Session-based recommendations with recurrent neural networks', arXiv preprint arXiv:1511.06939.  \n",
        "Covington, P., Adams, J., & Sargin, E. 2016, 'Deep neural networks for youtube recommendations' In Proceedings of the 10th ACM conference on recommender systems, pp. 191-198, ACM.  \n",
        "Zhao, W., Chai, H., Wang, B., Ye, J., Yang, M., Zhao, Z., & Chen, X. 2017, 'Leveraging long and short-term information in content-aware movie recommendation', arXiv preprint arXiv:1712.09059.  \n",
        "Wu, S., Tang, Y., Zhu, Y., Wang, L., Xie, X., & Tan, T. 2019, 'Session-based recommendation with graph neural networks', In Proceedings of the AAAI Conference on Artificial Intelligence, Vol. 33, pp. 346-353.  \n"
      ]
    },
    {
      "cell_type": "markdown",
      "metadata": {
        "id": "GTSRyGPmk6mt",
        "colab_type": "text"
      },
      "source": [
        "#Video Pitch"
      ]
    }
  ]
}